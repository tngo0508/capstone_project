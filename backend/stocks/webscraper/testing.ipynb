{
 "metadata": {
  "language_info": {
   "codemirror_mode": {
    "name": "ipython",
    "version": 3
   },
   "file_extension": ".py",
   "mimetype": "text/x-python",
   "name": "python",
   "nbconvert_exporter": "python",
   "pygments_lexer": "ipython3",
   "version": "3.8.2-final"
  },
  "orig_nbformat": 2,
  "kernelspec": {
   "name": "python3",
   "display_name": "Python 3.8.2 64-bit ('venv')",
   "metadata": {
    "interpreter": {
     "hash": "cb02f821a3d04a5d26b00a86e9a582124f73fcdee7012eece330ff6c505bde81"
    }
   }
  }
 },
 "nbformat": 4,
 "nbformat_minor": 2,
 "cells": [
  {
   "source": [
    "import pandas as pd\n",
    "import os\n",
    "\n",
    "file = 'constituents-financials_csv.csv'\n",
    "df = pd.read_csv(file)"
   ],
   "cell_type": "code",
   "metadata": {},
   "execution_count": 6,
   "outputs": [
    {
     "output_type": "stream",
     "name": "stdout",
     "text": [
      "c:\\Users\\tngo0\\Desktop\\scrape-stock\n"
     ]
    }
   ]
  },
  {
   "cell_type": "code",
   "execution_count": 8,
   "metadata": {},
   "outputs": [
    {
     "output_type": "execute_result",
     "data": {
      "text/plain": [
       "  Symbol                 Name                  Sector   Price  Price/Earnings  \\\n",
       "0    MMM           3M Company             Industrials  222.89           24.31   \n",
       "1    AOS      A.O. Smith Corp             Industrials   60.24           27.76   \n",
       "2    ABT  Abbott Laboratories             Health Care   56.27           22.51   \n",
       "3   ABBV          AbbVie Inc.             Health Care  108.48           19.41   \n",
       "4    ACN        Accenture plc  Information Technology  150.51           25.47   \n",
       "\n",
       "   Dividend Yield  Earnings/Share  52 Week Low  52 Week High    Market Cap  \\\n",
       "0        2.332862            7.92       259.77       175.490  138721055226   \n",
       "1        1.147959            1.70        68.39        48.925   10783419933   \n",
       "2        1.908982            0.26        64.60        42.280  102121042306   \n",
       "3        2.499560            3.29       125.86        60.050  181386347059   \n",
       "4        1.714470            5.44       162.60       114.820   98765855553   \n",
       "\n",
       "         EBITDA  Price/Sales  Price/Book  \\\n",
       "0  9.048000e+09     4.390271       11.34   \n",
       "1  6.010000e+08     3.575483        6.35   \n",
       "2  5.744000e+09     3.740480        3.19   \n",
       "3  1.031000e+10     6.291571       26.14   \n",
       "4  5.643228e+09     2.604117       10.62   \n",
       "\n",
       "                                         SEC Filings  \n",
       "0  http://www.sec.gov/cgi-bin/browse-edgar?action...  \n",
       "1  http://www.sec.gov/cgi-bin/browse-edgar?action...  \n",
       "2  http://www.sec.gov/cgi-bin/browse-edgar?action...  \n",
       "3  http://www.sec.gov/cgi-bin/browse-edgar?action...  \n",
       "4  http://www.sec.gov/cgi-bin/browse-edgar?action...  "
      ],
      "text/html": "<div>\n<style scoped>\n    .dataframe tbody tr th:only-of-type {\n        vertical-align: middle;\n    }\n\n    .dataframe tbody tr th {\n        vertical-align: top;\n    }\n\n    .dataframe thead th {\n        text-align: right;\n    }\n</style>\n<table border=\"1\" class=\"dataframe\">\n  <thead>\n    <tr style=\"text-align: right;\">\n      <th></th>\n      <th>Symbol</th>\n      <th>Name</th>\n      <th>Sector</th>\n      <th>Price</th>\n      <th>Price/Earnings</th>\n      <th>Dividend Yield</th>\n      <th>Earnings/Share</th>\n      <th>52 Week Low</th>\n      <th>52 Week High</th>\n      <th>Market Cap</th>\n      <th>EBITDA</th>\n      <th>Price/Sales</th>\n      <th>Price/Book</th>\n      <th>SEC Filings</th>\n    </tr>\n  </thead>\n  <tbody>\n    <tr>\n      <th>0</th>\n      <td>MMM</td>\n      <td>3M Company</td>\n      <td>Industrials</td>\n      <td>222.89</td>\n      <td>24.31</td>\n      <td>2.332862</td>\n      <td>7.92</td>\n      <td>259.77</td>\n      <td>175.490</td>\n      <td>138721055226</td>\n      <td>9.048000e+09</td>\n      <td>4.390271</td>\n      <td>11.34</td>\n      <td>http://www.sec.gov/cgi-bin/browse-edgar?action...</td>\n    </tr>\n    <tr>\n      <th>1</th>\n      <td>AOS</td>\n      <td>A.O. Smith Corp</td>\n      <td>Industrials</td>\n      <td>60.24</td>\n      <td>27.76</td>\n      <td>1.147959</td>\n      <td>1.70</td>\n      <td>68.39</td>\n      <td>48.925</td>\n      <td>10783419933</td>\n      <td>6.010000e+08</td>\n      <td>3.575483</td>\n      <td>6.35</td>\n      <td>http://www.sec.gov/cgi-bin/browse-edgar?action...</td>\n    </tr>\n    <tr>\n      <th>2</th>\n      <td>ABT</td>\n      <td>Abbott Laboratories</td>\n      <td>Health Care</td>\n      <td>56.27</td>\n      <td>22.51</td>\n      <td>1.908982</td>\n      <td>0.26</td>\n      <td>64.60</td>\n      <td>42.280</td>\n      <td>102121042306</td>\n      <td>5.744000e+09</td>\n      <td>3.740480</td>\n      <td>3.19</td>\n      <td>http://www.sec.gov/cgi-bin/browse-edgar?action...</td>\n    </tr>\n    <tr>\n      <th>3</th>\n      <td>ABBV</td>\n      <td>AbbVie Inc.</td>\n      <td>Health Care</td>\n      <td>108.48</td>\n      <td>19.41</td>\n      <td>2.499560</td>\n      <td>3.29</td>\n      <td>125.86</td>\n      <td>60.050</td>\n      <td>181386347059</td>\n      <td>1.031000e+10</td>\n      <td>6.291571</td>\n      <td>26.14</td>\n      <td>http://www.sec.gov/cgi-bin/browse-edgar?action...</td>\n    </tr>\n    <tr>\n      <th>4</th>\n      <td>ACN</td>\n      <td>Accenture plc</td>\n      <td>Information Technology</td>\n      <td>150.51</td>\n      <td>25.47</td>\n      <td>1.714470</td>\n      <td>5.44</td>\n      <td>162.60</td>\n      <td>114.820</td>\n      <td>98765855553</td>\n      <td>5.643228e+09</td>\n      <td>2.604117</td>\n      <td>10.62</td>\n      <td>http://www.sec.gov/cgi-bin/browse-edgar?action...</td>\n    </tr>\n  </tbody>\n</table>\n</div>"
     },
     "metadata": {},
     "execution_count": 8
    }
   ],
   "source": [
    "df.head()"
   ]
  },
  {
   "cell_type": "code",
   "execution_count": 15,
   "metadata": {},
   "outputs": [
    {
     "output_type": "execute_result",
     "data": {
      "text/plain": [
       "0     MMM\n",
       "1     AOS\n",
       "2     ABT\n",
       "3    ABBV\n",
       "4     ACN\n",
       "Name: Symbol, dtype: object"
      ]
     },
     "metadata": {},
     "execution_count": 15
    }
   ],
   "source": [
    "stock_symbol = df['Symbol']\n",
    "stock_symbol.head()"
   ]
  },
  {
   "cell_type": "code",
   "execution_count": 17,
   "metadata": {},
   "outputs": [],
   "source": [
    "stock_symbol.to_csv(r'stock_symbol.csv', index=False)"
   ]
  },
  {
   "cell_type": "code",
   "execution_count": 1,
   "metadata": {},
   "outputs": [
    {
     "output_type": "error",
     "ename": "SyntaxError",
     "evalue": "invalid syntax (<ipython-input-1-70af422163d0>, line 1)",
     "traceback": [
      "\u001b[1;36m  File \u001b[1;32m\"<ipython-input-1-70af422163d0>\"\u001b[1;36m, line \u001b[1;32m1\u001b[0m\n\u001b[1;33m    from keras\u001b[0m\n\u001b[1;37m              ^\u001b[0m\n\u001b[1;31mSyntaxError\u001b[0m\u001b[1;31m:\u001b[0m invalid syntax\n"
     ]
    }
   ],
   "source": [
    "import keras"
   ]
  },
  {
   "cell_type": "code",
   "execution_count": null,
   "metadata": {},
   "outputs": [],
   "source": []
  }
 ]
}