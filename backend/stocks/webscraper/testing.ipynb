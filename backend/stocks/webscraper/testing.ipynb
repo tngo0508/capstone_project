{
 "metadata": {
  "language_info": {
   "codemirror_mode": {
    "name": "ipython",
    "version": 3
   },
   "file_extension": ".py",
   "mimetype": "text/x-python",
   "name": "python",
   "nbconvert_exporter": "python",
   "pygments_lexer": "ipython3",
   "version": "3.8.2-final"
  },
  "orig_nbformat": 2,
  "kernelspec": {
   "name": "python3",
   "display_name": "Python 3.8.2 64-bit ('venv')",
   "metadata": {
    "interpreter": {
     "hash": "cb02f821a3d04a5d26b00a86e9a582124f73fcdee7012eece330ff6c505bde81"
    }
   }
  }
 },
 "nbformat": 4,
 "nbformat_minor": 2,
 "cells": [
  {
   "source": [
    "import pickle\n",
    "import joblib\n",
    "import pandas as pd\n",
    "import numpy as np\n",
    "\n",
    "# model = joblib.load('stock_prediction_model_ANN.pkl')\n",
    "model = joblib.load('stock_prediction_model_knn.pkl')"
   ],
   "cell_type": "code",
   "metadata": {},
   "execution_count": 6,
   "outputs": []
  },
  {
   "cell_type": "code",
   "execution_count": 7,
   "metadata": {},
   "outputs": [
    {
     "output_type": "execute_result",
     "data": {
      "text/plain": [
       "array([[8.310000e+02, 7.010000e+01, 8.844900e+02, 4.627072e+07,\n",
       "        4.438415e+07, 8.051850e+11, 1.624170e+03, 5.200000e-01]])"
      ]
     },
     "metadata": {},
     "execution_count": 7
    }
   ],
   "source": [
    "# x = np.array([224.91, 101.03, 244.67, 466486, 1024440, 3361, 21.4, 10.75])\n",
    "# x = np.array([174.12, 114.04, 182.55, 1779190, 2324304, 100823000000, 20.5, 8.53])\n",
    "# x = np.array([44.01, 23.07, 53.46, 2097994, 3806745, 31238000000, 7, 6.36])\n",
    "# x = np.array([1735.42, 1008.87, 1843.83, 1053479, 1636985, 1185000000000, 7.7, 14.28]) # GOOGL\n",
    "# x = np.array([18.45, 6.53, 19.23, 2118072, 3855714, 6665000000, 0, -0.01]) # MAT\n",
    "x = np.array([831.00, 70.10, 884.49, 46270720, 44384150, 805185000000, 1624.17, 0.52]) #TSLA\n",
    "x = x.reshape(1,-1)\n",
    "scalers = joblib.load('train_scaler.pkl')\n",
    "x_scale = scalers.transform(x)\n",
    "x"
   ]
  },
  {
   "cell_type": "code",
   "execution_count": 8,
   "metadata": {},
   "outputs": [
    {
     "output_type": "execute_result",
     "data": {
      "text/plain": [
       "array(['Undervalued'], dtype=object)"
      ]
     },
     "metadata": {},
     "execution_count": 8
    }
   ],
   "source": [
    "y_pred = model.predict(x)\n",
    "y_pred"
   ]
  },
  {
   "cell_type": "code",
   "execution_count": null,
   "metadata": {},
   "outputs": [],
   "source": []
  }
 ]
}